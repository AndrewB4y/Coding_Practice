{
 "metadata": {
  "language_info": {
   "codemirror_mode": {
    "name": "ipython",
    "version": 3
   },
   "file_extension": ".py",
   "mimetype": "text/x-python",
   "name": "python",
   "nbconvert_exporter": "python",
   "pygments_lexer": "ipython3",
   "version": "3.8.2-final"
  },
  "orig_nbformat": 2,
  "kernelspec": {
   "name": "python3",
   "display_name": "Python 3.8.2 32-bit",
   "metadata": {
    "interpreter": {
     "hash": "0222e8b6b4364106d32534628a50d27346996349e63f0ae1dba7b159bd0311a5"
    }
   }
  }
 },
 "nbformat": 4,
 "nbformat_minor": 2,
 "cells": [
  {
   "cell_type": "code",
   "execution_count": 2,
   "metadata": {},
   "outputs": [],
   "source": [
    "import pandas as pd\n",
    "import numpy as np"
   ]
  },
  {
   "cell_type": "code",
   "execution_count": 3,
   "metadata": {},
   "outputs": [],
   "source": [
    "# Intersection of two dataframes\n",
    "H = pd.DataFrame (\n",
    "    {\n",
    "        \"name\":[\"Elizabeth\",\"Darcy\", \"Andy\"],\n",
    "        \"email\":[\"net@xyz.com\",\"cy@acmecorpus.com\", \"andy@email.com\"],\n",
    "        \"aux\":[\"ab\", \"cd\", \"zx\"]\n",
    "    }\n",
    ")\n",
    "\n",
    "S = pd.DataFrame (\n",
    "    {\n",
    "        \"name\":[\"Andy\", \"Bingley\",\"Elizabeth\", \"Andy\"],\n",
    "        \"email\": [\"andy@email.com\", \"bingley@xyz.com\",\"bennet@xyz.com\", \"tatata@email.com\"],\n",
    "        \"aux\":[\"zx\", \"ef\", \"ab\", \"uyuyuy\"]\n",
    "    }\n",
    ")"
   ]
  },
  {
   "cell_type": "code",
   "execution_count": 5,
   "metadata": {},
   "outputs": [
    {
     "output_type": "stream",
     "name": "stdout",
     "text": [
      "\nIntersection 2:\n        name         email_H aux_H           email_S   aux_S\n0  Elizabeth     net@xyz.com    ab    bennet@xyz.com      ab\n1       Andy  andy@email.com    zx    andy@email.com      zx\n2       Andy  andy@email.com    zx  tatata@email.com  uyuyuy\n"
     ]
    }
   ],
   "source": [
    "inter = pd.merge(H, S, how='inner', on='name', suffixes=('_H', '_S'))\n",
    "print(\"\\nIntersection 2:\\n{}\".format(inter))"
   ]
  },
  {
   "cell_type": "code",
   "execution_count": 6,
   "metadata": {},
   "outputs": [
    {
     "output_type": "stream",
     "name": "stdout",
     "text": [
      "\nIntersection 2:\n        name           email_S   aux_S         email_H aux_H\n0       Andy    andy@email.com      zx  andy@email.com    zx\n1       Andy  tatata@email.com  uyuyuy  andy@email.com    zx\n2  Elizabeth    bennet@xyz.com      ab     net@xyz.com    ab\n"
     ]
    }
   ],
   "source": [
    "inter = pd.merge(S, H, how='inner', on='name', suffixes=('_S', '_H'))\n",
    "print(\"\\nIntersection 2:\\n{}\".format(inter))"
   ]
  },
  {
   "cell_type": "code",
   "execution_count": 7,
   "metadata": {},
   "outputs": [],
   "source": [
    "# Intersection of two dataframes\n",
    "H = pd.DataFrame (\n",
    "    {\n",
    "        \"name\":[\"Elizabeth\",\"Darcy\", \"Andy\", \"Andy\"],\n",
    "        \"email\":[\"net@xyz.com\",\"cy@acmecorpus.com\", \"andy@email.com\", \"tene@email.com\"],\n",
    "        \"aux\":[\"ab\", \"cd\", \"zx\", \"tene\"]\n",
    "    }\n",
    ")\n",
    "\n",
    "S = pd.DataFrame (\n",
    "    {\n",
    "        \"name\":[\"Andy\", \"Bingley\",\"Elizabeth\", \"Andy\"],\n",
    "        \"email\": [\"andy@email.com\", \"bingley@xyz.com\",\"bennet@xyz.com\", \"tatata@email.com\"],\n",
    "        \"aux\":[\"zx\", \"ef\", \"ab\", \"uyuyuy\"]\n",
    "    }\n",
    ")"
   ]
  },
  {
   "cell_type": "code",
   "execution_count": null,
   "metadata": {},
   "outputs": [],
   "source": []
  }
 ]
}