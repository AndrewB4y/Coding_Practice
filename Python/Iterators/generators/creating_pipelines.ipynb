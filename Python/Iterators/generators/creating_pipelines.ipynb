{
 "metadata": {
  "language_info": {
   "codemirror_mode": {
    "name": "ipython",
    "version": 3
   },
   "file_extension": ".py",
   "mimetype": "text/x-python",
   "name": "python",
   "nbconvert_exporter": "python",
   "pygments_lexer": "ipython3",
   "version": "3.8.2-final"
  },
  "orig_nbformat": 2,
  "kernelspec": {
   "name": "python3",
   "display_name": "Python 3.8.2 32-bit",
   "metadata": {
    "interpreter": {
     "hash": "0222e8b6b4364106d32534628a50d27346996349e63f0ae1dba7b159bd0311a5"
    }
   }
  }
 },
 "nbformat": 4,
 "nbformat_minor": 2,
 "cells": [
  {
   "source": [
    "Taken from: https://realpython.com/introduction-to-python-generators/\n",
    "\n",
    "# Creating Data Pipelines With Generators\n",
    "\n",
    "Data pipelines allow you to string together code to process large datasets or streams of data without maxing out your machine’s memory.\n",
    "\n",
    "To demonstrate how to build pipelines with generators, you’re going to analyze this file to get the total and average of all series A rounds in the dataset.\n",
    "\n",
    "Let’s think of a strategy:\n",
    "\n",
    "Read every line of the file.\n",
    "Split each line into a list of values.\n",
    "Extract the column names.\n",
    "Use the column names and lists to create a dictionary.\n",
    "Filter out the rounds you aren’t interested in.\n",
    "Calculate the total and average values for the rounds you are interested in.\n",
    "Normally, you can do this with a package like pandas, but you can also achieve this functionality with just a few generators"
   ],
   "cell_type": "markdown",
   "metadata": {}
  },
  {
   "cell_type": "code",
   "execution_count": 1,
   "metadata": {},
   "outputs": [],
   "source": [
    "# Let's open the file using a comprehension generator\n",
    "\n",
    "file_name = \"techcrunch.csv\"\n",
    "lines = (line for line in open(file_name))"
   ]
  },
  {
   "cell_type": "code",
   "execution_count": 2,
   "metadata": {},
   "outputs": [],
   "source": [
    "# Now let's have a comprehension generator that iterates through each line\n",
    "\n",
    "list_line = (s.rstrip().split(\",\") for s in lines)"
   ]
  },
  {
   "cell_type": "code",
   "execution_count": 3,
   "metadata": {},
   "outputs": [
    {
     "output_type": "stream",
     "name": "stdout",
     "text": [
      "['permalink', 'company', 'numEmps', 'category', 'city', 'state', 'fundedDate', 'raisedAmt', 'raisedCurrency', 'round']\n"
     ]
    }
   ],
   "source": [
    "# This line is going to get the column names\n",
    "cols = next(list_line)\n",
    "print(cols)"
   ]
  },
  {
   "cell_type": "code",
   "execution_count": 4,
   "metadata": {},
   "outputs": [],
   "source": [
    "# Creating dictionaries where the keys are the column names\n",
    "company_dicts = (dict(zip(cols, data)) for data in list_line)"
   ]
  },
  {
   "cell_type": "code",
   "execution_count": 5,
   "metadata": {},
   "outputs": [],
   "source": [
    "# Using a fourth generator to filter the funding round you want and pull raisedAmt as well\n",
    "\n",
    "funding = (\n",
    "    int(company_dict[\"raisedAmt\"])\n",
    "    for company_dict in company_dicts\n",
    "    if company_dict[\"round\"] == \"a\"\n",
    ")\n",
    "\n",
    "# Here the generator expression iterates through the results of company_dicts\n",
    "# and takes the raisedAmt for any company_dict where the round key is \"a\""
   ]
  },
  {
   "cell_type": "code",
   "execution_count": 6,
   "metadata": {},
   "outputs": [],
   "source": [
    "# Up to this point we aren’t iterating through anything\n",
    "# To iterate through the 4 generators we would need a for loop or other \n",
    "# iterative expression like sum()\n",
    "\n",
    "total_series_a = sum(funding)\n",
    "\n",
    "# Calling sum() now to iterates through the generators"
   ]
  },
  {
   "cell_type": "code",
   "execution_count": 7,
   "metadata": {},
   "outputs": [
    {
     "output_type": "stream",
     "name": "stdout",
     "text": [
      "Total series A fundraising: $4376015000\n"
     ]
    }
   ],
   "source": [
    "print(f\"Total series A fundraising: ${total_series_a}\")"
   ]
  },
  {
   "source": [
    "This script pulls together every generator you’ve built, and they all function as one big data pipeline. Here’s a line by line breakdown:\n",
    "\n",
    "* Line x reads in each line of the file.\n",
    "* Line x splits each line into values and puts the values into a list.\n",
    "* Line x uses next() to store the column names in a list.\n",
    "* Line x creates dictionaries and unites them with a zip() call:\n",
    "The keys are the column names cols from line 4.\n",
    "The values are the rows in list form, created in line 3.\n",
    "* Line x gets each company’s series A funding amounts. It also filters out any other raised amount.\n",
    "* Line xx begins the iteration process by calling sum() to get the total amount of series A funding found in the CSV.\n",
    "When you run this code on techcrunch.csv, you should find a total of $4,376,015,000 raised in series A funding rounds."
   ],
   "cell_type": "markdown",
   "metadata": {}
  }
 ]
}